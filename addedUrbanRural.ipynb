{
 "cells": [
  {
   "cell_type": "code",
   "execution_count": 1,
   "metadata": {
    "collapsed": true
   },
   "outputs": [],
   "source": [
    "import requests\n",
    "import bs4\n",
    "from bs4 import BeautifulSoup\n",
    "import re\n",
    "import pandas as pd\n"
   ]
  },
  {
   "cell_type": "code",
   "execution_count": 2,
   "metadata": {
    "collapsed": true
   },
   "outputs": [],
   "source": [
    "\"\"\"\n",
    "get generation 2 spawn tables\n",
    "\"\"\"\n",
    "\n",
    "def get_spawn_tables(loc):\n",
    "    \"\"\"\n",
    "    params:\n",
    "    -------\n",
    "        loc - url to search through \n",
    "    rets:\n",
    "    -----\n",
    "        res - generation 2 spawn tables scraped from loc url\n",
    "    \"\"\"\n",
    "    \n",
    "    loc_page = requests.get(loc)\n",
    "    loc_soup = BeautifulSoup(loc_page.content, 'html.parser')\n",
    "    \n",
    "    # extract html between header tags\n",
    "    start = loc_soup.find('h2', {'id': 'gen2'})\n",
    "    html  = u''\n",
    "    res   = []\n",
    "    \n",
    "    if (start is None):\n",
    "        return []\n",
    "    \n",
    "    for elem in start.next_siblings:\n",
    "        if elem.name == 'h2':\n",
    "            break\n",
    "        else:\n",
    "            html += str(elem)\n",
    "\n",
    "    soup   = BeautifulSoup(html, 'html.parser')\n",
    "    tables = soup.find_all('table', {'class': 'data-table'})\n",
    "    catch_methods = soup.find_all('h3')\n",
    "    \n",
    "    for i in range(len(tables)):\n",
    "        res.append(tuple([loc[31:], catch_methods[i].text, tables[i]]))\n",
    "        \n",
    "    return res\n",
    "                                                         \n"
   ]
  },
  {
   "cell_type": "code",
   "execution_count": 3,
   "metadata": {
    "collapsed": true
   },
   "outputs": [],
   "source": [
    "\"\"\"\n",
    "parse spawn table row\n",
    "\"\"\"\n",
    "def parse_spawn_table_row(row):\n",
    "    \"\"\"\n",
    "    params:\n",
    "    -------\n",
    "        row - row to parse\n",
    "    rets:\n",
    "    -----\n",
    "        res - tuple of the form [pokemon name | times available]\n",
    "    \"\"\"\n",
    "    \n",
    "    name         = row.find('td').find('span', {'class': 'infocard-data'}).find('a')['href'][9:]\n",
    "    availability = []\n",
    "    iterator     = 0\n",
    "    times        = ['morning', 'day', 'night']\n",
    "    \n",
    "    for elem in row.find('td', {'class': 'cell-fixed'}).contents:\n",
    "        if elem.name == 'img':\n",
    "            availability.append(times[iterator])\n",
    "            \n",
    "        iterator += 1\n",
    "        \n",
    "    return tuple([name, availability])\n",
    "    \n"
   ]
  },
  {
   "cell_type": "code",
   "execution_count": 4,
   "metadata": {
    "collapsed": true
   },
   "outputs": [],
   "source": [
    "\"\"\"\n",
    "parse a single spawn table\n",
    "\"\"\"\n",
    "\n",
    "def parse_spawn_table(table):\n",
    "    \"\"\"\n",
    "    params:\n",
    "    -------\n",
    "        table - table to parse. tuple (route, catch method, data table)\n",
    "    rets:\n",
    "    -----\n",
    "        res - 2d matrix where each row is of form [pokemon name | routes available | times available | catch method]\n",
    "    \"\"\"\n",
    "    \n",
    "    route          = table[0]\n",
    "    catch_method   = table[1]\n",
    "    names          = []\n",
    "    availabilities = []\n",
    "    res            = []\n",
    "    \n",
    "    for row in table[2].find_all('tr')[1:]:\n",
    "        name, availability = parse_spawn_table_row(row)\n",
    "        names.append(name)\n",
    "        availabilities.append(availability)\n",
    "        \n",
    "    for i in range(len(names)):\n",
    "        res.append([names[i], route, availabilities[i], catch_method])\n",
    "        \n",
    "    return res"
   ]
  },
  {
   "cell_type": "code",
   "execution_count": 5,
   "metadata": {
    "collapsed": true
   },
   "outputs": [],
   "source": [
    "\"\"\"\n",
    "parse all spawn tables\n",
    "\"\"\"\n",
    "\n",
    "def parse_spawn_tables():\n",
    "    \"\"\"\n",
    "    params:\n",
    "    -------\n",
    "        NONE (relies on global var 'tables')\n",
    "    rets:\n",
    "    ----\n",
    "         res - 2d matrix where each row is of form [pokemon name | routes available | times available | catch method]\n",
    "    \"\"\"\n",
    "    \n",
    "    res = []\n",
    "    \n",
    "    for table in tables:\n",
    "        res += parse_spawn_table(table)\n",
    "        \n",
    "    return res"
   ]
  },
  {
   "cell_type": "code",
   "execution_count": 6,
   "metadata": {
    "collapsed": true
   },
   "outputs": [],
   "source": [
    "\"\"\"\n",
    "union duplicate pokemon data\n",
    "\"\"\"\n",
    "\n",
    "def union_pokemon_guide():\n",
    "    \"\"\"\n",
    "    params:\n",
    "    -------\n",
    "        NONE (relies on global var 'pokemon_location_guide')\n",
    "    rets:\n",
    "    -----\n",
    "        res - unioned pokemon location guide (i.e. dupe pokemon have data unioned(?))\n",
    "    \"\"\"\n",
    "    \n",
    "    res   = []\n",
    "    names = get_names()\n",
    "    \n",
    "    f_name   = ''\n",
    "    f_routes = []\n",
    "    f_catch  = []\n",
    "    f_times  = [[\"morning\", 0], [\"day\", 0], [\"night\", 0]]\n",
    "    \n",
    "    for name in names:\n",
    "        \n",
    "        to_union = [x for x in pokemon_location_guide if x[0] == name]\n",
    "        f_name   = name\n",
    "        f_routes = sorted(list(set([x[1] for x in to_union])))\n",
    "        f_catch  = sorted(list(set([x[3] for x in to_union])))\n",
    "        f_times  = [[\"morning\", 0], [\"day\", 0], [\"night\", 0]]\n",
    "\n",
    "        for data in to_union:\n",
    "            for time in data[2]:\n",
    "                if time == 'morning':\n",
    "                    f_times[0][1] += 1\n",
    "                elif time == 'day':\n",
    "                    f_times[1][1] += 1\n",
    "                elif time == 'night':\n",
    "                    f_times[2][1] += 1\n",
    "        \n",
    "        for i in range(len(f_times)):\n",
    "            f_times[i] = tuple(f_times[i])\n",
    "                    \n",
    "        res.append([f_name, f_routes, f_times, f_catch])\n",
    "        \n",
    "    return res\n",
    "            "
   ]
  },
  {
   "cell_type": "code",
   "execution_count": 7,
   "metadata": {
    "collapsed": true
   },
   "outputs": [],
   "source": [
    "\"\"\"\n",
    "get all available pokemon names\n",
    "\"\"\"\n",
    "\n",
    "def get_names():\n",
    "    \"\"\"\n",
    "    params:\n",
    "    -------\n",
    "        NONE (relies on global var 'pokemon_location_guide')\n",
    "    rets:\n",
    "    -----\n",
    "        res - all pokemon names available\n",
    "    \"\"\"\n",
    "    \n",
    "    res = []\n",
    "    \n",
    "    for poke_data in pokemon_location_guide:\n",
    "        res.append(poke_data[0])\n",
    "        \n",
    "    return sorted(list(set(res)))\n",
    "    "
   ]
  },
  {
   "cell_type": "markdown",
   "metadata": {},
   "source": [
    "SCRAPING BEGINS HERE"
   ]
  },
  {
   "cell_type": "code",
   "execution_count": 8,
   "metadata": {
    "collapsed": true
   },
   "outputs": [],
   "source": [
    "\"\"\"\n",
    "base url\n",
    "\"\"\"\n",
    "base_url = 'https://pokemondb.net/location'\n",
    "page     = requests.get(base_url)\n",
    "soup     = BeautifulSoup(page.content, 'html.parser')\n",
    "poke_df  = pd.DataFrame(columns=['routes available', 'time of day', 'capture method'], dtype='object')"
   ]
  },
  {
   "cell_type": "code",
   "execution_count": 44,
   "metadata": {
    "scrolled": true
   },
   "outputs": [
    {
     "name": "stdout",
     "output_type": "stream",
     "text": [
      "['https://pokemondb.net/location/kanto-route-1', 'https://pokemondb.net/location/kanto-route-2', 'https://pokemondb.net/location/kanto-route-3', 'https://pokemondb.net/location/kanto-route-4', 'https://pokemondb.net/location/kanto-route-5', 'https://pokemondb.net/location/kanto-route-6', 'https://pokemondb.net/location/kanto-route-7', 'https://pokemondb.net/location/kanto-route-8', 'https://pokemondb.net/location/kanto-route-9', 'https://pokemondb.net/location/kanto-route-10', 'https://pokemondb.net/location/kanto-route-11', 'https://pokemondb.net/location/kanto-route-12', 'https://pokemondb.net/location/kanto-route-13', 'https://pokemondb.net/location/kanto-route-14', 'https://pokemondb.net/location/kanto-route-15', 'https://pokemondb.net/location/kanto-route-16', 'https://pokemondb.net/location/kanto-route-17', 'https://pokemondb.net/location/kanto-route-18', 'https://pokemondb.net/location/kanto-route-19', 'https://pokemondb.net/location/kanto-route-20', 'https://pokemondb.net/location/kanto-route-21', 'https://pokemondb.net/location/kanto-route-22', 'https://pokemondb.net/location/kanto-route-23', 'https://pokemondb.net/location/kanto-route-24', 'https://pokemondb.net/location/kanto-route-25', 'https://pokemondb.net/location/kanto-route-26', 'https://pokemondb.net/location/kanto-route-27', 'https://pokemondb.net/location/kanto-route-28', 'https://pokemondb.net/location/kanto-berry-forest', 'https://pokemondb.net/location/kanto-bond-bridge', 'https://pokemondb.net/location/kanto-canyon-entrance', 'https://pokemondb.net/location/kanto-cape-brink', 'https://pokemondb.net/location/kanto-celadon-city', 'https://pokemondb.net/location/kanto-cerulean-cave', 'https://pokemondb.net/location/kanto-cerulean-city', 'https://pokemondb.net/location/kanto-cinnabar-island', 'https://pokemondb.net/location/kanto-digletts-cave', 'https://pokemondb.net/location/kanto-five-island', 'https://pokemondb.net/location/kanto-five-isle-meadow', 'https://pokemondb.net/location/kanto-four-island', 'https://pokemondb.net/location/kanto-fuchsia-city', 'https://pokemondb.net/location/kanto-green-path', 'https://pokemondb.net/location/kanto-icefall-cave', 'https://pokemondb.net/location/kanto-kindle-road', 'https://pokemondb.net/location/kanto-lost-cave', 'https://pokemondb.net/location/kanto-memorial-pillar', 'https://pokemondb.net/location/kanto-mt-ember', 'https://pokemondb.net/location/kanto-mt-moon', 'https://pokemondb.net/location/kanto-one-island', 'https://pokemondb.net/location/kanto-outcast-island', 'https://pokemondb.net/location/kanto-pallet-town', 'https://pokemondb.net/location/kanto-pattern-bush', 'https://pokemondb.net/location/kanto-pewter-city', 'https://pokemondb.net/location/kanto-pokemon-mansion', 'https://pokemondb.net/location/kanto-pokemon-tower', 'https://pokemondb.net/location/kanto-power-plant', 'https://pokemondb.net/location/kanto-resort-gorgeous', 'https://pokemondb.net/location/kanto-rock-tunnel', 'https://pokemondb.net/location/kanto-ruin-valley', 'https://pokemondb.net/location/kanto-safari-zone', 'https://pokemondb.net/location/kanto-saffron-city', 'https://pokemondb.net/location/kanto-seafoam-islands', 'https://pokemondb.net/location/kanto-seavault-canyon', 'https://pokemondb.net/location/kanto-silph-co', 'https://pokemondb.net/location/kanto-tanoby-ruins', 'https://pokemondb.net/location/kanto-three-isle-port', 'https://pokemondb.net/location/kanto-tohjo-falls', 'https://pokemondb.net/location/kanto-trainer-tower', 'https://pokemondb.net/location/kanto-treasure-beach', 'https://pokemondb.net/location/kanto-vermilion-city', 'https://pokemondb.net/location/kanto-victory-road', 'https://pokemondb.net/location/kanto-viridian-city', 'https://pokemondb.net/location/kanto-viridian-forest', 'https://pokemondb.net/location/kanto-water-labyrinth', 'https://pokemondb.net/location/kanto-water-path']\n"
     ]
    }
   ],
   "source": [
    "\"\"\"\n",
    "load route urls into locs\n",
    "\"\"\"\n",
    "locs = []\n",
    "loc  = ''\n",
    "\n",
    "for a in soup.find_all('a', href=re.compile(r'/location/kanto')):\n",
    "    to_append     = a['href'][9:]\n",
    "    loc  = base_url + to_append\n",
    "    locs.append(loc)\n",
    "    \n",
    "print (locs)\n",
    "urban=['kanto-route-1','kanto-route-2', 'kanto-route-3','kanto-route-4','kanto-route-5','kanto-route-6','kanto-route-7','kanto-route-8','kanto-route-9','kanto-route-10','kanto-route-11','kanto-route-15','kanto-route-16','kanto-route-18','kanto-route-22','kanto-route-24', 'kanto-bond-bridge', 'kanto-celadon-city', 'kanto-cerulean-city', 'kanto-cinnabar-island', 'kanto-fuchsia-city', 'kanto-kindle-road', 'kanto-pallet-town', 'kanto-pewter-city', 'kanto-pokemon-mansion', 'kanto-pokemon-tower', 'kanto-power-plant', 'kanto-resort-gorgeous', 'kanto-safari-zone', 'kanto-saffron-city', 'kanto-silph-co', 'kanto-three-isle-port', 'kanto-trainer-tower', 'kanto-treasure-beach', 'kanto-vermilion-city', 'kanto-victory-road', 'kanto-viridian-city', 'kanto-viridian-forest']\n",
    "rural=['kanto-route-12','kanto-route-13','kanto-route-14','kanto-route-17','kanto-route-19','kanto-route-20','kanto-route-21','kanto-route-23','kanto-route-25','kanto-route-26','kanto-route-27','kanto-route-28', 'kanto-berry-forest', 'kanto-canyon-entrance', 'kanto-cerulean-cave', 'kanto-cape-brink', 'kanto-digletts-cave', 'kanto-five-island', 'kanto-five-isle-meadow', 'kanto-four-island', 'kanto-green-path', 'kanto-icefall-cave', 'kanto-lost-cave', 'kanto-memorial-pillar', 'kanto-mt-ember', 'kanto-mt-moon', 'kanto-one-island', 'kanto-outcast-island', 'kanto-pattern-bush', 'kanto-rock-tunnel', 'kanto-ruin-valley', 'kanto-seafoam-islands', 'kanto-seavault-canyon', 'kanto-tanoby-ruins', 'kanto-tohjo-falls', 'kanto-water-labyrinth', 'kanto-water-path']\n",
    "other = ['kanto-berry-forest', 'kanto-canyon-entrance', 'kanto-cerulean-cave', 'kanto-cape-brink', 'kanto-digletts-cave', 'kanto-five-island', 'kanto-five-isle-meadow', 'kanto-four-island', 'kanto-green-path', 'kanto-icefall-cave', 'kanto-lost-cave', 'kanto-memorial-pillar', 'kanto-mt-ember', 'kanto-mt-moon', 'kanto-one-island', 'kanto-outcast-island', 'kanto-pattern-bush', 'kanto-rock-tunnel', 'kanto-ruin-valley', 'kanto-seafoam-islands', 'kanto-seavault-canyon', 'kanto-tanoby-ruins', 'kanto-tohjo-falls', 'kanto-water-labyrinth', 'kanto-water-path', 'kanto-bond-bridge', 'kanto-celadon-city', 'kanto-cerulean-city', 'kanto-cinnabar-island', 'kanto-fuchsia-city', 'kanto-kindle-road', 'kanto-pallet-town', 'kanto-pewter-city', 'kanto-pokemon-mansion', 'kanto-pokemon-tower', 'kanto-power-plant', 'kanto-resort-gorgeous', 'kanto-safari-zone', 'kanto-saffron-city', 'kanto-silph-co', 'kanto-three-isle-port', 'kanto-trainer-tower', 'kanto-treasure-beach', 'kanto-vermilion-city', 'kanto-victory-road', 'kanto-viridian-city', 'kanto-viridian-forest']\n",
    "def urbanOrRural(arr):\n",
    "    urb=0\n",
    "    rur=0\n",
    "    oth=0\n",
    "    for i in arr:\n",
    "        if i in urban:\n",
    "            urb+=1\n",
    "        if i in rural:\n",
    "            rur+=1\n",
    "        if i in other:\n",
    "            oth+=1\n",
    "    if urb>=rur:\n",
    "        return 'urban' \n",
    "    else:\n",
    "        return 'rural'\n",
    "\n",
    "    \n",
    "def countUR(df):\n",
    "    urb=0\n",
    "    rur=0\n",
    "    for i in df:\n",
    "        if i== 'urban':\n",
    "            urb+=1\n",
    "        else:\n",
    "            rur+=1\n",
    "    return 'Urban: ' + str(urb)+  \" rural: \" + str(rur)\n"
   ]
  },
  {
   "cell_type": "code",
   "execution_count": 45,
   "metadata": {
    "collapsed": true
   },
   "outputs": [],
   "source": [
    "\"\"\"\n",
    "load generation 2 tables from each url\n",
    "\"\"\"\n",
    "tables = []\n",
    "\n",
    "for loc in locs:\n",
    "    tables += (get_spawn_tables(loc))"
   ]
  },
  {
   "cell_type": "code",
   "execution_count": 46,
   "metadata": {
    "collapsed": true
   },
   "outputs": [],
   "source": [
    "\"\"\"\n",
    "parse loaded tables and put into 2d matrix (non-numpy)\n",
    "\"\"\"\n",
    "pokemon_location_guide = parse_spawn_tables()\n",
    "pokemon_location_guide = sorted(pokemon_location_guide, key=lambda x: x[0])\n",
    "pokemon_location_guide = union_pokemon_guide()"
   ]
  },
  {
   "cell_type": "code",
   "execution_count": 47,
   "metadata": {
    "collapsed": true
   },
   "outputs": [],
   "source": [
    "\"\"\"\n",
    "flip generated 2d matrix for df generation\n",
    "\"\"\"\n",
    "to_df = list(zip(*reversed(pokemon_location_guide)))"
   ]
  },
  {
   "cell_type": "code",
   "execution_count": 50,
   "metadata": {},
   "outputs": [],
   "source": [
    "\"\"\"\n",
    "generate pandas dataframe\n",
    "\"\"\"\n",
    "pokemon_location_guide_d  = {'Pokemon': to_df[0], 'Routes Available': to_df[1], 'Times Available': to_df[2], 'Capture Methods': to_df[3]}\n",
    "pokemon_location_guide_df = pd.DataFrame(pokemon_location_guide_d)\n",
    "pokemon_location_guide_df.set_index('Pokemon', inplace=True)\n",
    "pokemon_location_guide_df['Urban/Rural']=pokemon_location_guide_df['Routes Available'].apply(urbanOrRural)\n"
   ]
  },
  {
   "cell_type": "code",
   "execution_count": 51,
   "metadata": {
    "collapsed": true
   },
   "outputs": [],
   "source": [
    "\"\"\"\n",
    "save dataframe to \"./Desktop/pokemonLocations.csv\n",
    "\"\"\"\n",
    "pokemon_location_guide_df.to_csv('~/Desktop/pokemonLocations.csv')"
   ]
  },
  {
   "cell_type": "code",
   "execution_count": null,
   "metadata": {
    "collapsed": true
   },
   "outputs": [],
   "source": []
  }
 ],
 "metadata": {
  "kernelspec": {
   "display_name": "Python 3",
   "language": "python",
   "name": "python3"
  },
  "language_info": {
   "codemirror_mode": {
    "name": "ipython",
    "version": 3
   },
   "file_extension": ".py",
   "mimetype": "text/x-python",
   "name": "python",
   "nbconvert_exporter": "python",
   "pygments_lexer": "ipython3",
   "version": "3.6.3"
  }
 },
 "nbformat": 4,
 "nbformat_minor": 2
}
