{
 "cells": [
  {
   "cell_type": "markdown",
   "metadata": {},
   "source": [
    "# COGS 108 - Project Proposal"
   ]
  },
  {
   "cell_type": "markdown",
   "metadata": {},
   "source": [
    "## Important\n",
    "\n",
    "- Make sure all group members (3-5 people) are listed in the group members section.\n",
    "- ONE, and only one, member of your group should upload this notebook to TritonED. \n",
    "- Each member of the group will receive the same grade on this assignment. \n",
    "- Keep the file name the same: submit the file 'ProjectProposal.ipynb'"
   ]
  },
  {
   "cell_type": "markdown",
   "metadata": {},
   "source": [
    "## Overview"
   ]
  },
  {
   "cell_type": "markdown",
   "metadata": {},
   "source": [
    "Read the project description and detailed instructions for this assignment in the 'ProjectOutline' document."
   ]
  },
  {
   "cell_type": "markdown",
   "metadata": {},
   "source": [
    "## Group Members: Fill in the Student IDs of each group member here\n",
    "\n",
    "Replace the lines below to list each persons full student ID. Add lines as needed for your group size, and make sure each ID is listed on a separate line. \n",
    "\n",
    "- A11866551\n",
    "- A91045835\n",
    "- A12034606\n",
    "- A12114407"
   ]
  },
  {
   "cell_type": "markdown",
   "metadata": {},
   "source": [
    "### Research Question\n",
    "\n",
    "What is your research question? (1-2 sentences)"
   ]
  },
  {
   "cell_type": "markdown",
   "metadata": {},
   "source": [
    "Given the dataset of over 290,000+ Pokemon sightings for the mobile app game, Pokemon Go, we would like to map locations from the original pokemon series games onto real-world locations by comparing heuristics like ecosystem and surrounding pokemon availability. We also hope to come to conclusions regarding a possible skew in Pokemon GO pokemon appearance in rural vs urban areas. Our overarching goal is to observe spawn frequency in certain conditions/factors. This boils down to:\n",
    "\n",
    "How many Pokemon spawn in urban areas vs. rural areas? Which area spawns the most?\n",
    "How comparable are the locations of the original pokemon series games to the real-world locations?"
   ]
  },
  {
   "cell_type": "markdown",
   "metadata": {},
   "source": [
    "### Hypothesis\n",
    "\n",
    "What is your main hypothesis and predictions? (2-3 sentences)"
   ]
  },
  {
   "cell_type": "markdown",
   "metadata": {},
   "source": [
    "Based on the AR game Pokemon Go, the “Predict’em All” dataset recorded the spawning logistics of 150 different kinds of Pokemon from “Kanto”, a region comprised of several cities, routes, and other landmarks. We hypothesize that mapping from Kanto onto the real world was performed during the production of this game, and so Pokemon should spawn semi-realistically in Pokemon GO as they did in the Pokemon series lore. By analyzing the spawn frequency in regards to geographical (continent, urban/rural proximity) and weather conditions,  we will observe whether Pokemon Go’s spawning behavior reflects up to 75% accuracy."
   ]
  },
  {
   "cell_type": "markdown",
   "metadata": {},
   "source": [
    "### Dataset(s)\n",
    "\n",
    "What data will you use to answer your question? Describe the dataset(s) in terms of number of observations, what kind of features it contains, etc. You must use at least one dataset containing at least approximately 1000 observations (if your data are smaller but you feel they are sufficient, email Prof. Voytek). You are welcome (and in fact recommended) to find multiple datasets! If you do so, describe each one, and briefly explain how you will combine them together. "
   ]
  },
  {
   "cell_type": "markdown",
   "metadata": {},
   "source": [
    "*Fill in your dataset information here*\n",
    "\n",
    "(Copy this information for each dataset)\n",
    "- Dataset Name: Predict’em All\n",
    "- Link to the dataset: https://www.kaggle.com/semioniy/predictemall\n",
    "- Number of observations: 290,000+\n",
    "\n",
    "1-2 sentences describing the dataset. \n",
    "\n",
    "The dataset consists of over 290,000 Pokemon sightings all over the world. Each sighting has data on the time, date, location (exact location, and distance from gyms, bodies of water, populated areas), weather, and co-occurrences with other Pokemon. \n",
    "\n",
    "If you plan to use multiple datasets, add 1-2 sentences about how you plan to combine these datasets."
   ]
  },
  {
   "cell_type": "markdown",
   "metadata": {},
   "source": [
    "### Background and Prior Work\n",
    "\n",
    "Why is this question of interest, what background information led you to your hypothesis, and why is this important?\n",
    "\n",
    "Find some relevant prior work, and reference those sources. Even if you think you have a totally novel question, find the most similar prior work that you can and discuss how it relates to your project. \n",
    "\n",
    "References can be research publications, but they need not be. Blogs, github repositories, company websites, etc., are all viable references if they are relevant to your project.\n",
    "\n",
    "(2-3 paragraphs, including at least 2 references)"
   ]
  },
  {
   "cell_type": "markdown",
   "metadata": {},
   "source": [
    "“A location-based, augmented reality mobile app game, Pokemon GO has players running up and down streets in attempt to locate nearby Pokemon to capture.  When players are approaching or within a certain region, several Pokemon appear for players to capture.  Players would not know when or where the next Pokemons would appear depending on where they are at.  But what if we knew which areas would most likely contain pokemon?  What if, given some historical data from the past year with 290,000+ sightings, we can conclude which areas spawn pokemon often so players will know where to go?  And what if we could map locations from the original pokemon series games onto real-world locations?”\n",
    "\n",
    "Reference #1 illustrates a similar idea we are aiming for in this project regarding spawn analyses.  Pointing out a flaw that the game has in locating and predicting the location of Pokemon, the developer implemented an app as a solution to this problem.  He offered three functionalities: 1) Visualization, displaying all Pokemon and their previous spawns in the region, 2) Prediction,  allowing users to filter certain Pokemons and informing them of the rarity of appearance in the region based on k-Nearest Neighbor algorithm, 3) Density and Distribution, a density contour map of Pokemon spawns in major cities where users can learn of cities with high density, meaning a high Pokemon spawn rate.  Upon reading up on this, we were interested in determining which areas (urban vs. rural) spawn the most Pokemon.  We concluded that given a dataset that consists of previous pokemon appearances in rural, suburban, mid-urban, and urban areas, we could produce a skew that would display which areas have the most spawn rate and which have the less.\n",
    "\n",
    "Our second reference demonstrates an analysis of Pokemon GO statistics using IBM’s Watson analytics. One observation mentioned in the article mentions correlations in the type of a pokemon and where it will “reside” (i.e. where it will spawn). Specifically, this means that going to a park will yield higher spawn rates of bug-type pokemon whereas going to the beach will yield higher spawn rates of water-type pokemon. This mechanic is very similar to how finding pokemon worked in the original series of games. However, in the original series, certain pokemon could only be found in specific regions of the game map, irrespective of region environment. We want to see if Pokemon GO carries this characteristic as well, and if so, whether we can map the original game map onto the Pokemon GO world map.\n",
    "\n",
    "\n",
    "References (include links):\n",
    "- 1) https://nycdatascience.com/blog/student-works/predicting-visualizing-pokemon-go-using-k-nearest-neighbors/ \n",
    "- 2) https://www.ibm.com/blogs/business-analytics/pokemon-go-explained-with-watson-analytics/"
   ]
  },
  {
   "cell_type": "markdown",
   "metadata": {},
   "source": [
    "### Proposed Methods\n",
    "\n",
    "What methods will you use to analyze your data?\n",
    "\n",
    "- How 'clean' is the data? To the extent that it requires cleaning, how will you do so?\n",
    "- How will you analyze the data? Be as specific as you can. Briefly mention any pre-processing steps that are required for your methods (for example, checking data distributions and performing any transformations that may be required). Include a brief outline of how you will apply your chosen method(s). \n",
    "- What do you plan to report? Briefly mention any key visualizations you plan to create, and/or the kind of results you will be able to report that address your question (this could be, for example, the outcome of some statistical test(s), prediction error on a model, a model fit parameter, etc.).\n",
    "- Include a list of packages you expect to use for you project. If you plan to use packages we have not used in class, add a very brief description about them (a few words is sufficient). "
   ]
  },
  {
   "cell_type": "markdown",
   "metadata": {},
   "source": [
    "*Fill in your proposed methods information here:*\n",
    "\n",
    "*Data Cleaning (2-3 sentences)*\n",
    "\n",
    "Since there is a lot of data per sighting, we will probably drop a lot of the columns with data we will not be using (for example, the co-occurrence data which takes up 150 columns alone). Other than that, the data is very clean and does not require much work to use.  \n",
    "\n",
    "*Data Analysis (1-2 paragraphs)*\n",
    "\n",
    "As said previously, there are vast amounts of data in the dataset, some that would be irrelevant for our purposes.  Therefore, a preprocessing step we would need to do is data cleaning by dropping several columns that we will not be using.  This is something we would need to establish before proceeding with our analysis.  \n",
    "\n",
    "We can then proceed with data visualization to see how the data looks and get a feel of it, with scatter matrices, bar graphs, and/or histograms.  Plotting the data can help us get an idea of which pokemon spawn in which area, when they spawn, during what conditions, and much more, which can all help with finding correlations.  The use of pivot tables may also be useful as well as we can compare spawn rate values, split by rural vs. urban areas and each pokemon per area.  Additionally, finding the mean of the spawn frequency rate of each area can tell us which area spawns the most Pokemon on average and which area spawns less.\n",
    "\n",
    "*What to report (2-3 sentences)*\n",
    "\n",
    "We will be reporting on the skew between the number of Pokemon spawns in more urban vs. more rural areas by summing the amount of spawns per type of area, as well as possibly by location. We are also planning on creating a visual that relates Pokemon spawn in the original video games and that of Pokemon GO. \n",
    "\n",
    "Packages we plan to use:\n",
    "- Pandas\n",
    "- Numpy\n",
    "- Matplotlib.pyplot "
   ]
  },
  {
   "cell_type": "markdown",
   "metadata": {},
   "source": [
    "### Ethics and Privacy\n",
    "\n",
    "Briefly acknowledge and address any potential issues of ethics and privacy for the proposed project. In particular:\n",
    "- Do you have permission to use this data, for this purpose?\n",
    "- Are there privacy concerns regarding your datasets that you need to deal with, and/or terms of use that you need to comply with?\n",
    "- Are there potential biases in your dataset(s), in terms of who it composes, and how it was collected, that may be problematic in terms of it allowing for equitable analysis? (For example, does your data exclude particular populations, or is it likely to reflect particular human biases in a way that could be a problem?) \n",
    "- Are there any other issues related to your topic area, data, and/or analyses that are potentially problematic in terms of data privacy and equitable impact?\n",
    "- How will you handle any issues you identify?\n",
    "\n",
    "(1-2 paragraphs)\n",
    "\n",
    "Since this is a dataset from Kaggle, it is open to anyone to perform analysis and predictions with. There are no restrictions on what the data can be used for, so there is no issue with our usage. There are no privacy concerns or terms of use for this data. In terms of biases, the data has been collected from locations around the globe, but these locations are not evenly spread out. Multiple sightings are collected from each city, where most of them are relatively large, so the rural population is not as well represented. There is also a skew in the dates and times the data was collected. The data was all collected during the first week of August 2016, so there is a possibility that the spawn rates have since changed. \n",
    "\n",
    "In terms of analysis, we may find that certain rarer Pokemon spawn more in certain areas and are not fairly distributed, or that certain times of the day are better for sighting certain Pokemon. Though this seems reasonable, it may be an indicator of unfair Pokemon spawn, such that it is nearly impossible to find a certain Pokemon simply because of your location. Since Pokemon GO is a global game, the spawn rates should be fairly equal so that everyone playing can have a similar chance to find a Pokemon."
   ]
  },
  {
   "cell_type": "markdown",
   "metadata": {},
   "source": [
    "### Discussion\n",
    "\n",
    "Discuss your project, looking forward to what your results might mean, how they fit it in with what is already known, and what problems you may encounter. \n",
    "\n",
    "In particular:\n",
    "- If your analyses and hypotheses are correct, what will be the contribution of this project to the topic domain? \n",
    "- Alternatively, what will you do if you methods don't work and/or your hypotheses are wrong? \n",
    "- What are the potential pitfalls and potential confounds of your data and/or methods that may cause problems, and/or influence your interpretations?\n",
    "\n",
    "(2-3 paragraphs)"
   ]
  },
  {
   "cell_type": "markdown",
   "metadata": {},
   "source": [
    "If our hypothesis is correct, the quality and depth of the Pokemon GO game as a virtual reality experience would drastically increase. Players will be able to literally walk the routes their avatars walked through when they were kids, catch the same pokemon, and potentially experience a similar environment. As seen in the popular demands for trading and authentic gym battles during the months following the game’s release, staying loyal to Pokemon thematics offers players an immersive experience and more enjoyable gameplay overall. Small details such as Pokemon spawning in terrain affiliated with their type will only serve to increase the game’s credence in bringing Pokemon to life. Regardless, Pokemon GO will still be a fun mobile game that brings nostalgia to every 90’s kid. \n",
    "\n",
    "Nonetheless, we also understand that the developers of Pokemon GO might have had to adjust Pokemon spawn rates to conform with the realities of life. For example, there may be a skew in the appearance of pokemon in urban vs rural areas, with Pokemon simply being more frequent in populous urban areas (where there are larger player bases) than in rural regions. Such corrections will make mapping the original game to the real world difficult. The results of our analysis also may not be accurate anymore, since the data being used is from the initial launch of the game. However, it can be used in future analyses on how the developers may have improved the spawn rates to make it more evenly distributed. "
   ]
  },
  {
   "cell_type": "code",
   "execution_count": null,
   "metadata": {
    "collapsed": true
   },
   "outputs": [],
   "source": []
  }
 ],
 "metadata": {
  "kernelspec": {
   "display_name": "Python 3",
   "language": "python",
   "name": "python3"
  },
  "language_info": {
   "codemirror_mode": {
    "name": "ipython",
    "version": 3
   },
   "file_extension": ".py",
   "mimetype": "text/x-python",
   "name": "python",
   "nbconvert_exporter": "python",
   "pygments_lexer": "ipython3",
   "version": "3.6.3"
  }
 },
 "nbformat": 4,
 "nbformat_minor": 2
}
