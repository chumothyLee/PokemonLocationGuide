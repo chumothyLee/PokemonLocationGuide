{
 "cells": [
  {
   "cell_type": "code",
   "execution_count": 48,
   "metadata": {
    "collapsed": true
   },
   "outputs": [],
   "source": [
    "import numpy as np\n",
    "import pandas as pd"
   ]
  },
  {
   "cell_type": "code",
   "execution_count": 49,
   "metadata": {
    "collapsed": true
   },
   "outputs": [],
   "source": [
    "#read in file only with certain columns that we need\n",
    "fields = ['pokemonId', 'appearedHour', 'closeToWater', 'city', 'weather', 'weatherIcon', 'urban', 'suburban', 'midurban', 'rural']\n",
    "df = pd.read_csv('300k.csv', skipinitialspace=True, usecols=fields)"
   ]
  },
  {
   "cell_type": "code",
   "execution_count": 50,
   "metadata": {},
   "outputs": [],
   "source": [
    "#convert pokemonId to pokemon name - note: farfetch'd = farfetchd, mr. mime = mrmime\n",
    "pokeNames = ['', 'bulbasaur', 'ivysaur', 'venusaur', 'charmander', 'charmeleon', 'charizard', 'squirtle', 'wartortle', 'blastoise', 'caterpie', 'metapod', 'butterfree', 'weedle', 'kakuna', 'beedrill', 'pidgey', 'pidgeotto', 'pidgeot', 'rattata', 'raticate', 'spearow', 'fearow', 'ekans', 'arbok', 'pikachu', 'raichu', 'sandshrew', 'sandslash', 'nidoran', 'nidorina', 'nidoqueen', 'nidoran', 'nidorino', 'nidoking', 'clefairy', 'vulpix', 'ninetales', 'jigglypuff', 'wigglytuff', 'zubat', 'golbat', 'oddish', 'gloom', 'vileplume', 'paras', 'parasect', 'venonat', 'venemoth', 'diglett', 'dugtrio', 'meowth', 'persian', 'psyduck', 'golduck', 'mankey', 'primeape', 'growlithe', 'arcanine', 'poliwag', 'poliwhirl', 'poliwrath', 'abra', 'kadabra', 'alakazam', 'machop', 'machoke', 'machamp', 'bellsprout', 'weepinbell', 'victreebel', 'tentacool', 'tentacruel', 'geodude', 'graveler', 'golem', 'ponyta', 'rapidash', 'slowpoke', 'slowbro', 'magnemite', 'magnetron', 'farfetchd', 'doduo', 'dodrio', 'seel', 'dewgong', 'grimer', 'muk', 'shellder', 'cloyster', 'gastly', 'haunter', 'gengar', 'onix', 'drowzee', 'hypno', 'krabby', 'kingler', 'voltorb', 'electrode', 'exeggcute', 'exeggutor', 'cubone', 'marowak', 'hitmonlee', 'hitmonchan', 'lickitung', 'koffing', 'weezing', 'rhyhorn', 'rhydon', 'chansey', 'tangela', 'kangaskhan', 'horsea', 'seadra', 'goldeen', 'seaking', 'staryu', 'starmie', 'mrmime', 'scyther', 'jynx', 'electabuzz', 'magmar', 'pinsir', 'tauros', 'magikarp', 'gyarados', 'lapras', 'ditto', 'eevee', 'vaporeon', 'jolteon', 'flareon', 'porygon', 'omanyte', 'omastar', 'kabuto', 'kabutops', 'aerodactyl', 'snorlax', 'articuno', 'zapdos', 'moltres', 'dratini', 'dragonair', 'dragonite', 'mewtwo', 'mew']\n",
    "\n",
    "def idToName(pokeId): \n",
    "    index = int(pokeId)\n",
    "    return pokeNames[index]\n",
    "\n",
    "df['pokemonName'] = df['pokemonId'].apply(idToName)"
   ]
  },
  {
   "cell_type": "code",
   "execution_count": 51,
   "metadata": {},
   "outputs": [],
   "source": [
    "#convert appearedHour to time of day to match scraped data\n",
    "def timeConvert(hour):\n",
    "    if(hour >= 4 and hour < 10):\n",
    "        return 'morning'\n",
    "    elif(hour >= 10 and hour < 18):\n",
    "        return 'day'\n",
    "    else:\n",
    "        return 'night'\n",
    "\n",
    "df['appearedTimeOfDay'] = df['appearedHour'].apply(timeConvert)"
   ]
  },
  {
   "cell_type": "code",
   "execution_count": 52,
   "metadata": {},
   "outputs": [],
   "source": [
    "#dictionary of name: (# of morning appearances, day, night) \n",
    "pokeTimes = {}\n",
    "\n",
    "for i, row in df.iterrows():\n",
    "    name = row['pokemonName']\n",
    "    time = row['appearedTimeOfDay']\n",
    "    if name in pokeTimes:\n",
    "        m, d, n = pokeTimes[name]\n",
    "        if(time == 'morning'):\n",
    "            pokeTimes[name] = (m+1, d, n)\n",
    "        if(time == 'day'):\n",
    "            pokeTimes[name] = (m, d+1, n)\n",
    "        if(time == 'night'):\n",
    "            pokeTimes[name] = (m, d, n+1)\n",
    "    else:\n",
    "        if(time == 'morning'):\n",
    "            pokeTimes[name] = (1, 0, 0)\n",
    "        if(time == 'day'):\n",
    "            pokeTimes[name] = (0, 1, 0)\n",
    "        if(time == 'night'):\n",
    "            pokeTimes[name] = (0, 0, 1)   \n"
   ]
  },
  {
   "cell_type": "code",
   "execution_count": 53,
   "metadata": {},
   "outputs": [
    {
     "name": "stdout",
     "output_type": "stream",
     "text": [
      "{'pidgey': 'night', 'vaporeon': 'night', 'weedle': 'night', 'spearow': 'night', 'machoke': 'night', 'sandshrew': 'night', 'clefairy': 'night', 'rattata': 'night', 'seadra': 'night', 'graveler': 'night', 'nidoran': 'night', 'gyarados': 'night', 'ekans': 'night', 'golem': 'night', 'arcanine': 'night', 'venemoth': 'night', 'parasect': 'night', 'golbat': 'night', 'poliwhirl': 'night', 'starmie': 'night', 'dragonair': 'night', 'kingler': 'night', 'pidgeotto': 'night', 'kangaskhan': 'night', 'beedrill': 'night', 'kadabra': 'night', 'marowak': 'night', 'exeggutor': 'night', 'persian': 'night', 'primeape': 'night', 'rhydon': 'night', 'caterpie': 'night', 'kakuna': 'night', 'pikachu': 'night', 'dugtrio': 'night', 'slowbro': 'night', 'hypno': 'night', 'jynx': 'morning', 'weepinbell': 'night', 'magikarp': 'night', 'tauros': 'night', 'metapod': 'night', 'golduck': 'night', 'rapidash': 'night', 'diglett': 'night', 'oddish': 'night', 'bulbasaur': 'night', 'tentacruel': 'night', 'ninetales': 'night', 'gloom': 'night', 'drowzee': 'night', 'vileplume': 'night', 'weezing': 'night', 'seaking': 'night', 'lapras': 'morning', 'charmander': 'night', 'haunter': 'night', 'kabutops': 'night', 'electrode': 'night', 'cloyster': 'night', 'seel': 'night', 'tangela': 'morning', 'pidgeot': 'night', 'squirtle': 'night', 'dewgong': 'night', 'mrmime': 'day', 'poliwag': 'night', 'magnetron': 'day', 'muk': 'night', 'exeggcute': 'night', 'abra': 'morning', 'hitmonchan': 'night', 'krabby': 'day', 'fearow': 'night', 'dodrio': 'night', 'cubone': 'night', 'staryu': 'day', 'electabuzz': 'night', 'wigglytuff': 'night', 'geodude': 'day', 'farfetchd': 'day', 'articuno': 'night', 'magnemite': 'day', 'raticate': 'night', 'venonat': 'night', 'dragonite': 'morning', 'butterfree': 'night', 'nidorina': 'night', 'arbok': 'night', 'victreebel': 'night', 'omastar': 'night', 'alakazam': 'night', 'poliwrath': 'night', 'omanyte': 'day', 'nidorino': 'night', 'psyduck': 'morning', 'gengar': 'night', 'wartortle': 'night', 'growlithe': 'night', 'charizard': 'night', 'ivysaur': 'night', 'voltorb': 'night', 'mankey': 'day', 'kabuto': 'night', 'nidoqueen': 'night', 'pinsir': 'night', 'sandslash': 'night', 'vulpix': 'morning', 'goldeen': 'day', 'meowth': 'night', 'koffing': 'day', 'ditto': 'night', 'rhyhorn': 'night', 'magmar': 'day', 'nidoking': 'day', 'shellder': 'day', 'slowpoke': 'night', 'scyther': 'day', 'snorlax': 'day', 'venusaur': 'night', 'grimer': 'day', 'chansey': 'morning', 'machamp': 'day', 'tentacool': 'night', 'charmeleon': 'morning', 'lickitung': 'night', 'hitmonlee': 'morning', 'machop': 'morning', 'doduo': 'morning', 'gastly': 'night', 'blastoise': 'day', 'mewtwo': 'night', 'zubat': 'night', 'paras': 'morning', 'flareon': 'night', 'jolteon': 'night', 'porygon': 'night', 'ponyta': 'morning', 'onix': 'day', 'horsea': 'day', 'jigglypuff': 'night', 'raichu': 'morning', 'aerodactyl': 'morning'}\n"
     ]
    }
   ],
   "source": [
    "#dictionary of name: time of day with most appearances\n",
    "pokeTimeOfDay = {}\n",
    "for pokemon, (m, d, n) in pokeTimes.items():\n",
    "    if(m >= d and m >= n):\n",
    "        pokeTimeOfDay[pokemon] = 'morning'\n",
    "    elif(d >= m and d >= n):\n",
    "        pokeTimeOfDay[pokemon] = 'day'\n",
    "    else:\n",
    "        pokeTimeOfDay[pokemon] = 'night'\n",
    "        \n",
    "print(pokeTimeOfDay)"
   ]
  },
  {
   "cell_type": "code",
   "execution_count": 54,
   "metadata": {},
   "outputs": [
    {
     "name": "stdout",
     "output_type": "stream",
     "text": [
      "127131,54136,28979,85775\n"
     ]
    }
   ],
   "source": [
    "#number of appearances in urban vs rural\n",
    "urbanAppearances = 0\n",
    "suburbanAppearances = 0\n",
    "midurbanAppearances = 0\n",
    "ruralAppearances = 0\n",
    "\n",
    "for i, row in df.iterrows():\n",
    "    if(row['urban']):\n",
    "        urbanAppearances+= 1\n",
    "    elif(row['suburban']):\n",
    "        suburbanAppearances+= 1\n",
    "    elif(row['midurban']):\n",
    "        midurbanAppearances+= 1\n",
    "    else:\n",
    "        ruralAppearances+= 1\n",
    "\n",
    "print(str(urbanAppearances) + \",\" + str(suburbanAppearances) + \",\" + str(midurbanAppearances) + \",\" + str(ruralAppearances))"
   ]
  },
  {
   "cell_type": "code",
   "execution_count": 55,
   "metadata": {},
   "outputs": [],
   "source": [
    "#total appearances of each pokemon\n",
    "pokeAppearances = {}\n",
    "for i, row in df.iterrows():\n",
    "    name = row['pokemonName']\n",
    "    if name in pokeAppearances:\n",
    "        pokeAppearances[name] = pokeAppearances[name] + 1\n",
    "    else:\n",
    "        pokeAppearances[name] = 1"
   ]
  },
  {
   "cell_type": "code",
   "execution_count": 56,
   "metadata": {},
   "outputs": [
    {
     "name": "stdout",
     "output_type": "stream",
     "text": [
      "[('doduo', 1), ('shellder', 5), ('aerodactyl', 5), ('kabuto', 7), ('machop', 7), ('charizard', 8), ('jigglypuff', 8), ('lapras', 10), ('flareon', 10), ('raichu', 10), ('abra', 12), ('venusaur', 12), ('onix', 12), ('omanyte', 14), ('nidoqueen', 16), ('rhyhorn', 16), ('paras', 16), ('nidoking', 17), ('blastoise', 18), ('porygon', 18), ('tentacool', 19), ('ditto', 20), ('ponyta', 20), ('tangela', 22), ('charmeleon', 23), ('mewtwo', 24), ('meowth', 25), ('zubat', 25), ('jolteon', 26), ('grimer', 28), ('cubone', 29), ('psyduck', 29), ('hitmonlee', 29), ('gastly', 29), ('poliwag', 32), ('exeggcute', 34), ('snorlax', 34), ('horsea', 34), ('machamp', 38), ('farfetchd', 40), ('lickitung', 40), ('slowpoke', 41), ('chansey', 43), ('koffing', 46), ('dragonite', 47), ('hitmonchan', 56), ('sandslash', 56), ('mrmime', 58), ('magnemite', 59), ('growlithe', 60), ('vulpix', 64), ('articuno', 73), ('goldeen', 84), ('butterfree', 95), ('wartortle', 99), ('ivysaur', 100), ('alakazam', 107), ('magmar', 130), ('mankey', 131), ('geodude', 135), ('muk', 138), ('gengar', 145), ('arbok', 146), ('staryu', 152), ('voltorb', 153), ('golem', 158), ('beedrill', 199), ('pinsir', 202), ('victreebel', 204), ('drowzee', 205), ('nidorina', 205), ('venonat', 227), ('vileplume', 229), ('omastar', 247), ('diglett', 251), ('poliwrath', 253), ('kabutops', 262), ('nidorino', 272), ('seel', 302), ('jynx', 307), ('krabby', 318), ('kangaskhan', 337), ('scyther', 345), ('fearow', 393), ('pidgeot', 446), ('pikachu', 516), ('dodrio', 551), ('machoke', 564), ('ninetales', 568), ('dragonair', 593), ('metapod', 596), ('weezing', 604), ('magikarp', 670), ('dewgong', 692), ('dugtrio', 721), ('charmander', 738), ('electabuzz', 755), ('marowak', 930), ('oddish', 1035), ('electrode', 1073), ('magnetron', 1090), ('wigglytuff', 1120), ('tentacruel', 1153), ('rhydon', 1183), ('rapidash', 1210), ('raticate', 1233), ('cloyster', 1344), ('kadabra', 1360), ('bulbasaur', 1368), ('tauros', 1404), ('squirtle', 1490), ('arcanine', 1750), ('persian', 1757), ('exeggutor', 1786), ('kakuna', 1807), ('slowbro', 1824), ('primeape', 1912), ('sandshrew', 2025), ('seadra', 2297), ('haunter', 2419), ('graveler', 2470), ('pidgeotto', 3290), ('weepinbell', 3468), ('starmie', 3555), ('clefairy', 3565), ('gloom', 3603), ('seaking', 3842), ('poliwhirl', 3897), ('golduck', 3950), ('ekans', 4147), ('kingler', 4638), ('parasect', 7209), ('nidoran', 7887), ('gyarados', 7938), ('venemoth', 8325), ('caterpie', 9854), ('golbat', 10143), ('hypno', 10505), ('vaporeon', 11740), ('spearow', 12337), ('weedle', 27367), ('rattata', 39637), ('pidgey', 52114)]\n"
     ]
    }
   ],
   "source": [
    "#sorted by least to most appearances\n",
    "pokeAppearancesSorted = sorted(pokeAppearances.items(), key=lambda x: x[1])\n",
    "print(pokeAppearancesSorted)"
   ]
  },
  {
   "cell_type": "code",
   "execution_count": null,
   "metadata": {
    "collapsed": true
   },
   "outputs": [],
   "source": []
  }
 ],
 "metadata": {
  "kernelspec": {
   "display_name": "Python 3",
   "language": "python",
   "name": "python3"
  },
  "language_info": {
   "codemirror_mode": {
    "name": "ipython",
    "version": 3
   },
   "file_extension": ".py",
   "mimetype": "text/x-python",
   "name": "python",
   "nbconvert_exporter": "python",
   "pygments_lexer": "ipython3",
   "version": "3.6.3"
  }
 },
 "nbformat": 4,
 "nbformat_minor": 2
}
