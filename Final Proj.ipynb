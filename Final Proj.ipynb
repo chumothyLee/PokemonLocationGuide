{
 "cells": [
  {
   "cell_type": "code",
   "execution_count": 48,
   "metadata": {
    "collapsed": true
   },
   "outputs": [],
   "source": [
    "import numpy as np\n",
    "import pandas as pd"
   ]
  },
  {
   "cell_type": "code",
   "execution_count": 49,
   "metadata": {
    "collapsed": true
   },
   "outputs": [],
   "source": [
    "#read in file only with certain columns that we need\n",
    "fields = ['pokemonId', 'appearedHour', 'closeToWater', 'city', 'weather', 'weatherIcon', 'urban', 'suburban', 'midurban', 'rural']\n",
    "df = pd.read_csv('300k.csv', skipinitialspace=True, usecols=fields)"
   ]
  },
  {
   "cell_type": "code",
   "execution_count": 50,
   "metadata": {},
   "outputs": [],
   "source": [
    "#convert pokemonId to pokemon name - note: farfetch'd = farfetchd, mr. mime = mrmime\n",
    "pokeNames = ['', 'bulbasaur', 'ivysaur', 'venusaur', 'charmander', 'charmeleon', 'charizard', 'squirtle', 'wartortle', 'blastoise', 'caterpie', 'metapod', 'butterfree', 'weedle', 'kakuna', 'beedrill', 'pidgey', 'pidgeotto', 'pidgeot', 'rattata', 'raticate', 'spearow', 'fearow', 'ekans', 'arbok', 'pikachu', 'raichu', 'sandshrew', 'sandslash', 'nidoran', 'nidorina', 'nidoqueen', 'nidoran', 'nidorino', 'nidoking', 'clefairy', 'vulpix', 'ninetales', 'jigglypuff', 'wigglytuff', 'zubat', 'golbat', 'oddish', 'gloom', 'vileplume', 'paras', 'parasect', 'venonat', 'venemoth', 'diglett', 'dugtrio', 'meowth', 'persian', 'psyduck', 'golduck', 'mankey', 'primeape', 'growlithe', 'arcanine', 'poliwag', 'poliwhirl', 'poliwrath', 'abra', 'kadabra', 'alakazam', 'machop', 'machoke', 'machamp', 'bellsprout', 'weepinbell', 'victreebel', 'tentacool', 'tentacruel', 'geodude', 'graveler', 'golem', 'ponyta', 'rapidash', 'slowpoke', 'slowbro', 'magnemite', 'magnetron', 'farfetchd', 'doduo', 'dodrio', 'seel', 'dewgong', 'grimer', 'muk', 'shellder', 'cloyster', 'gastly', 'haunter', 'gengar', 'onix', 'drowzee', 'hypno', 'krabby', 'kingler', 'voltorb', 'electrode', 'exeggcute', 'exeggutor', 'cubone', 'marowak', 'hitmonlee', 'hitmonchan', 'lickitung', 'koffing', 'weezing', 'rhyhorn', 'rhydon', 'chansey', 'tangela', 'kangaskhan', 'horsea', 'seadra', 'goldeen', 'seaking', 'staryu', 'starmie', 'mrmime', 'scyther', 'jynx', 'electabuzz', 'magmar', 'pinsir', 'tauros', 'magikarp', 'gyarados', 'lapras', 'ditto', 'eevee', 'vaporeon', 'jolteon', 'flareon', 'porygon', 'omanyte', 'omastar', 'kabuto', 'kabutops', 'aerodactyl', 'snorlax', 'articuno', 'zapdos', 'moltres', 'dratini', 'dragonair', 'dragonite', 'mewtwo', 'mew']\n",
    "\n",
    "def idToName(pokeId): \n",
    "    index = int(pokeId)\n",
    "    return pokeNames[index]\n",
    "\n",
    "df['pokemonName'] = df['pokemonId'].apply(idToName)"
   ]
  },
  {
   "cell_type": "code",
   "execution_count": 51,
   "metadata": {},
   "outputs": [],
   "source": [
    "#convert appearedHour to time of day to match scraped data\n",
    "def timeConvert(hour):\n",
    "    if(hour >= 4 and hour < 10):\n",
    "        return 'morning'\n",
    "    elif(hour >= 10 and hour < 18):\n",
    "        return 'day'\n",
    "    else:\n",
    "        return 'night'\n",
    "\n",
    "df['appearedTimeOfDay'] = df['appearedHour'].apply(timeConvert)"
   ]
  },
  {
   "cell_type": "code",
   "execution_count": 52,
   "metadata": {},
   "outputs": [],
   "source": [
    "#dictionary of name: (# of morning appearances, day, night) \n",
    "pokeTimes = {}\n",
    "\n",
    "for i, row in df.iterrows():\n",
    "    name = row['pokemonName']\n",
    "    time = row['appearedTimeOfDay']\n",
    "    if name in pokeTimes:\n",
    "        m, d, n = pokeTimes[name]\n",
    "        if(time == 'morning'):\n",
    "            pokeTimes[name] = (m+1, d, n)\n",
    "        if(time == 'day'):\n",
    "            pokeTimes[name] = (m, d+1, n)\n",
    "        if(time == 'night'):\n",
    "            pokeTimes[name] = (m, d, n+1)\n",
    "    else:\n",
    "        if(time == 'morning'):\n",
    "            pokeTimes[name] = (1, 0, 0)\n",
    "        if(time == 'day'):\n",
    "            pokeTimes[name] = (0, 1, 0)\n",
    "        if(time == 'night'):\n",
    "            pokeTimes[name] = (0, 0, 1)   \n"
   ]
  },
  {
   "cell_type": "code",
   "execution_count": 59,
   "metadata": {},
   "outputs": [
    {
     "name": "stdout",
     "output_type": "stream",
     "text": [
      "{'pidgey': 'night', 'vaporeon': 'night', 'weedle': 'night', 'spearow': 'night', 'machoke': 'night', 'sandshrew': 'night', 'clefairy': 'night', 'rattata': 'night', 'seadra': 'night', 'graveler': 'night', 'nidoran': 'night', 'gyarados': 'night', 'ekans': 'night', 'golem': 'night', 'arcanine': 'night', 'venemoth': 'night', 'parasect': 'night', 'golbat': 'night', 'poliwhirl': 'night', 'starmie': 'night', 'dragonair': 'night', 'kingler': 'night', 'pidgeotto': 'night', 'kangaskhan': 'night', 'beedrill': 'night', 'kadabra': 'night', 'marowak': 'night', 'exeggutor': 'night', 'persian': 'night', 'primeape': 'night', 'rhydon': 'night', 'caterpie': 'night', 'kakuna': 'night', 'pikachu': 'night', 'dugtrio': 'night', 'slowbro': 'night', 'hypno': 'night', 'jynx': 'morning', 'weepinbell': 'night', 'magikarp': 'night', 'tauros': 'night', 'metapod': 'night', 'golduck': 'night', 'rapidash': 'night', 'diglett': 'night', 'oddish': 'night', 'bulbasaur': 'night', 'tentacruel': 'night', 'ninetales': 'night', 'gloom': 'night', 'drowzee': 'night', 'vileplume': 'night', 'weezing': 'night', 'seaking': 'night', 'lapras': 'morning', 'charmander': 'night', 'haunter': 'night', 'kabutops': 'night', 'electrode': 'night', 'cloyster': 'night', 'seel': 'night', 'tangela': 'morning', 'pidgeot': 'night', 'squirtle': 'night', 'dewgong': 'night', 'mrmime': 'day', 'poliwag': 'night', 'magnetron': 'day', 'muk': 'night', 'exeggcute': 'night', 'abra': 'morning, day, night', 'hitmonchan': 'night', 'krabby': 'day, night', 'fearow': 'night', 'dodrio': 'night', 'cubone': 'night', 'staryu': 'day', 'electabuzz': 'night', 'wigglytuff': 'night', 'geodude': 'day', 'farfetchd': 'day, night', 'articuno': 'night', 'magnemite': 'day', 'raticate': 'night', 'venonat': 'night', 'dragonite': 'morning', 'butterfree': 'night', 'nidorina': 'night', 'arbok': 'night', 'victreebel': 'night', 'omastar': 'night', 'alakazam': 'night', 'poliwrath': 'night', 'omanyte': 'day, night', 'nidorino': 'night', 'psyduck': 'morning', 'gengar': 'night', 'wartortle': 'night', 'growlithe': 'night', 'charizard': 'night', 'ivysaur': 'night', 'voltorb': 'night', 'mankey': 'day', 'kabuto': 'night', 'nidoqueen': 'night', 'pinsir': 'night', 'sandslash': 'night', 'vulpix': 'morning', 'goldeen': 'day', 'meowth': 'night', 'koffing': 'day', 'ditto': 'night', 'rhyhorn': 'night', 'magmar': 'day', 'nidoking': 'day, night', 'shellder': 'day', 'slowpoke': 'night', 'scyther': 'day', 'snorlax': 'day', 'venusaur': 'night', 'grimer': 'day, night', 'chansey': 'morning, night', 'machamp': 'day', 'tentacool': 'night', 'charmeleon': 'morning', 'lickitung': 'night', 'hitmonlee': 'morning, night', 'machop': 'morning', 'doduo': 'morning', 'gastly': 'night', 'blastoise': 'day', 'mewtwo': 'night', 'zubat': 'night', 'paras': 'morning, night', 'flareon': 'night', 'jolteon': 'night', 'porygon': 'night', 'ponyta': 'morning', 'onix': 'day', 'horsea': 'day', 'jigglypuff': 'night', 'raichu': 'morning'}\n"
     ]
    }
   ],
   "source": [
    "#dictionary of name: time of day with most appearances\n",
    "pokeTimeOfDay = {}\n",
    "for pokemon, (m, d, n) in pokeTimes.items():\n",
    "    if(m > d and m > n):\n",
    "        pokeTimeOfDay[pokemon] = 'morning'\n",
    "    elif(d > m and d > n):\n",
    "        pokeTimeOfDay[pokemon] = 'day'\n",
    "    elif(n > m and n > d):\n",
    "        pokeTimeOfDay[pokemon] = 'night'\n",
    "    elif(m == d and m == n):\n",
    "        if(m == n):\n",
    "            pokeTimeOfDay[pokemon] = 'morning, day, night'\n",
    "        else: \n",
    "            pokeTimeOfDay[pokemon] = 'morning, day'\n",
    "    elif(m == n):\n",
    "        pokeTimeOfDay[pokemon] = 'morning, night'\n",
    "    elif(d == n):\n",
    "        pokeTimeOfDay[pokemon] = 'day, night'\n",
    "    \n",
    "print(pokeTimeOfDay)"
   ]
  },
  {
   "cell_type": "code",
   "execution_count": 54,
   "metadata": {},
   "outputs": [
    {
     "name": "stdout",
     "output_type": "stream",
     "text": [
      "127131,54136,28979,85775\n"
     ]
    }
   ],
   "source": [
    "#number of appearances in urban vs rural\n",
    "urbanAppearances = 0\n",
    "ruralAppearances = 0\n",
    "\n",
    "for i, row in df.iterrows():\n",
    "    if(row['urban']):\n",
    "        urbanAppearances+= 1\n",
    "    if(row['rural']):\n",
    "        ruralAppearances+= 1\n",
    "\n",
    "print(str(urbanAppearances) + str(ruralAppearances))"
   ]
  },
  {
   "cell_type": "code",
   "execution_count": 57,
   "metadata": {},
   "outputs": [
    {
     "name": "stdout",
     "output_type": "stream",
     "text": [
      "{'pidgey': (20801, 15626), 'vaporeon': (4289, 3612), 'weedle': (9870, 9507), 'spearow': (5592, 3286), 'machoke': (310, 147), 'sandshrew': (906, 445), 'clefairy': (1693, 966), 'rattata': (15851, 12593), 'seadra': (1146, 581), 'graveler': (1103, 636), 'nidoran': (3500, 2082), 'gyarados': (3978, 2299), 'ekans': (1820, 848), 'golem': (80, 33), 'arcanine': (801, 343), 'venemoth': (3076, 2713), 'parasect': (2909, 2003), 'poliwhirl': (2049, 968), 'starmie': (1881, 849), 'dragonair': (293, 163), 'golbat': (4956, 2472), 'kingler': (2294, 1168), 'pidgeotto': (1340, 944), 'kangaskhan': (176, 62), 'beedrill': (67, 72), 'kadabra': (605, 371), 'exeggutor': (800, 496), 'persian': (762, 463), 'rhydon': (531, 307), 'pikachu': (225, 136), 'slowbro': (936, 459), 'jynx': (190, 63), 'weepinbell': (1410, 1149), 'primeape': (852, 447), 'metapod': (241, 187), 'caterpie': (3824, 3115), 'golduck': (1956, 1121), 'oddish': (512, 234), 'bulbasaur': (683, 353), 'tentacruel': (506, 407), 'ninetales': (249, 194), 'drowzee': (107, 42), 'magikarp': (342, 145), 'tauros': (829, 257), 'hypno': (6022, 2040), 'vileplume': (87, 82), 'kakuna': (661, 594), 'lapras': (6, 2), 'gloom': (1358, 1237), 'kabutops': (166, 47), 'electrode': (371, 506), 'cloyster': (618, 414), 'seel': (180, 39), 'tangela': (5, 6), 'marowak': (413, 230), 'seaking': (2053, 956), 'haunter': (1273, 554), 'poliwag': (17, 8), 'pidgeot': (175, 133), 'dugtrio': (319, 178), 'abra': (1, 8), 'rapidash': (516, 380), 'hitmonchan': (27, 13), 'magnetron': (399, 503), 'squirtle': (693, 441), 'fearow': (178, 107), 'cubone': (12, 10), 'staryu': (70, 42), 'weezing': (280, 146), 'diglett': (87, 74), 'wigglytuff': (455, 320), 'geodude': (65, 42), 'farfetchd': (22, 14), 'articuno': (36, 22), 'magnemite': (29, 15), 'raticate': (502, 373), 'venonat': (90, 70), 'dodrio': (285, 128), 'dewgong': (333, 200), 'victreebel': (96, 61), 'omastar': (125, 67), 'charmander': (360, 174), 'electabuzz': (510, 109), 'alakazam': (35, 37), 'poliwrath': (142, 55), 'omanyte': (8, 2), 'krabby': (194, 57), 'nidorino': (118, 78), 'dragonite': (17, 18), 'psyduck': (11, 9), 'wartortle': (50, 24), 'growlithe': (24, 15), 'charizard': (3, 3), 'nidorina': (83, 64), 'muk': (65, 36), 'mankey': (62, 37), 'ivysaur': (46, 26), 'kabuto': (5, 2), 'nidoqueen': (5, 4), 'pinsir': (115, 49), 'sandslash': (29, 8), 'arbok': (62, 29), 'mrmime': (28, 13), 'vulpix': (33, 22), 'meowth': (9, 8), 'koffing': (20, 16), 'voltorb': (77, 36), 'ditto': (9, 7), 'rhyhorn': (9, 4), 'exeggcute': (9, 17), 'nidoking': (9, 5), 'shellder': (3, 1), 'magmar': (59, 36), 'gengar': (74, 40), 'slowpoke': (16, 13), 'scyther': (139, 83), 'snorlax': (27, 4), 'goldeen': (42, 20), 'butterfree': (45, 30), 'venusaur': (3, 6), 'grimer': (15, 10), 'chansey': (20, 9), 'tentacool': (5, 8), 'hitmonlee': (9, 10), 'machop': (4, 2), 'gastly': (15, 11), 'blastoise': (10, 7), 'mewtwo': (12, 6), 'zubat': (11, 8), 'paras': (4, 9), 'charmeleon': (7, 7), 'jolteon': (13, 5), 'lickitung': (13, 11), 'porygon': (10, 3), 'ponyta': (8, 9), 'machamp': (18, 11), 'horsea': (20, 12), 'jigglypuff': (2, 3), 'onix': (4, 5), 'flareon': (3, 4), 'aerodactyl': (3, 0), 'raichu': (4, 2)}\n"
     ]
    }
   ],
   "source": [
    "#number of appearances in urban vs rural per pokemon\n",
    "#dictionary of name: (urban appearances, rural)\n",
    "pokePlace = {}\n",
    "for i, row in df.iterrows():\n",
    "    name = row['pokemonName']\n",
    "    if name in pokePlace:\n",
    "        u, r = pokePlace[name]\n",
    "        if(row['urban']):\n",
    "            pokePlace[name] = (u+1, r)\n",
    "        if(row['rural']):\n",
    "            pokePlace[name] = (u, r+1)\n",
    "    else:\n",
    "        if(row['urban']):\n",
    "            pokePlace[name] = (1, 0)\n",
    "        if(row['rural']):\n",
    "            pokePlace[name] = (0, 1)\n",
    "            \n",
    "print(pokePlace)"
   ]
  },
  {
   "cell_type": "code",
   "execution_count": 71,
   "metadata": {},
   "outputs": [
    {
     "name": "stdout",
     "output_type": "stream",
     "text": [
      "['pidgey', 'vaporeon', 'weedle', 'spearow', 'machoke', 'sandshrew', 'clefairy', 'rattata', 'seadra', 'graveler', 'nidoran', 'gyarados', 'ekans', 'golem', 'arcanine', 'venemoth', 'parasect', 'poliwhirl', 'starmie', 'dragonair', 'golbat', 'kingler', 'pidgeotto', 'kangaskhan', 'kadabra', 'exeggutor', 'persian', 'rhydon', 'pikachu', 'slowbro', 'jynx', 'weepinbell', 'primeape', 'metapod', 'caterpie', 'golduck', 'oddish', 'bulbasaur', 'tentacruel', 'ninetales', 'drowzee', 'magikarp', 'tauros', 'hypno', 'vileplume', 'kakuna', 'lapras', 'gloom', 'kabutops', 'cloyster', 'seel', 'marowak', 'seaking', 'haunter', 'poliwag', 'pidgeot', 'dugtrio', 'rapidash', 'hitmonchan', 'squirtle', 'fearow', 'cubone', 'staryu', 'weezing', 'diglett', 'wigglytuff', 'geodude', 'farfetchd', 'articuno', 'magnemite', 'raticate', 'venonat', 'dodrio', 'dewgong', 'victreebel', 'omastar', 'charmander', 'electabuzz', 'poliwrath', 'omanyte', 'krabby', 'nidorino', 'psyduck', 'wartortle', 'growlithe', 'nidorina', 'muk', 'mankey', 'ivysaur', 'kabuto', 'nidoqueen', 'pinsir', 'sandslash', 'arbok', 'mrmime', 'vulpix', 'meowth', 'koffing', 'voltorb', 'ditto', 'rhyhorn', 'nidoking', 'shellder', 'magmar', 'gengar', 'slowpoke', 'scyther', 'snorlax', 'goldeen', 'butterfree', 'grimer', 'chansey', 'machop', 'gastly', 'blastoise', 'mewtwo', 'zubat', 'jolteon', 'lickitung', 'porygon', 'machamp', 'horsea', 'aerodactyl', 'raichu']\n",
      "\n",
      "['beedrill', 'electrode', 'tangela', 'abra', 'magnetron', 'alakazam', 'dragonite', 'exeggcute', 'venusaur', 'tentacool', 'hitmonlee', 'paras', 'ponyta', 'jigglypuff', 'onix', 'flareon']\n",
      "\n",
      "['charizard', 'charmeleon']\n"
     ]
    }
   ],
   "source": [
    "#pokemon that appear more often in urban/rural\n",
    "urbanPokemon = []\n",
    "ruralPokemon = []\n",
    "equalPokemon = []\n",
    "\n",
    "for pokemon, (u, r) in pokePlace.items():\n",
    "    if(u > r):\n",
    "        urbanPokemon.append(pokemon)\n",
    "    elif(r > u):\n",
    "        ruralPokemon.append(pokemon)\n",
    "    else:\n",
    "        equalPokemon.append(pokemon)\n",
    "\n",
    "print(str(urbanPokemon) + '\\n\\n' + str(ruralPokemon) + '\\n\\n' + str(equalPokemon))"
   ]
  },
  {
   "cell_type": "code",
   "execution_count": 55,
   "metadata": {},
   "outputs": [],
   "source": [
    "#total appearances of each pokemon\n",
    "pokeAppearances = {}\n",
    "for i, row in df.iterrows():\n",
    "    name = row['pokemonName']\n",
    "    if name in pokeAppearances:\n",
    "        pokeAppearances[name] = pokeAppearances[name] + 1\n",
    "    else:\n",
    "        pokeAppearances[name] = 1"
   ]
  },
  {
   "cell_type": "code",
   "execution_count": 56,
   "metadata": {},
   "outputs": [
    {
     "name": "stdout",
     "output_type": "stream",
     "text": [
      "[('doduo', 1), ('shellder', 5), ('aerodactyl', 5), ('kabuto', 7), ('machop', 7), ('charizard', 8), ('jigglypuff', 8), ('lapras', 10), ('flareon', 10), ('raichu', 10), ('abra', 12), ('venusaur', 12), ('onix', 12), ('omanyte', 14), ('nidoqueen', 16), ('rhyhorn', 16), ('paras', 16), ('nidoking', 17), ('blastoise', 18), ('porygon', 18), ('tentacool', 19), ('ditto', 20), ('ponyta', 20), ('tangela', 22), ('charmeleon', 23), ('mewtwo', 24), ('meowth', 25), ('zubat', 25), ('jolteon', 26), ('grimer', 28), ('cubone', 29), ('psyduck', 29), ('hitmonlee', 29), ('gastly', 29), ('poliwag', 32), ('exeggcute', 34), ('snorlax', 34), ('horsea', 34), ('machamp', 38), ('farfetchd', 40), ('lickitung', 40), ('slowpoke', 41), ('chansey', 43), ('koffing', 46), ('dragonite', 47), ('hitmonchan', 56), ('sandslash', 56), ('mrmime', 58), ('magnemite', 59), ('growlithe', 60), ('vulpix', 64), ('articuno', 73), ('goldeen', 84), ('butterfree', 95), ('wartortle', 99), ('ivysaur', 100), ('alakazam', 107), ('magmar', 130), ('mankey', 131), ('geodude', 135), ('muk', 138), ('gengar', 145), ('arbok', 146), ('staryu', 152), ('voltorb', 153), ('golem', 158), ('beedrill', 199), ('pinsir', 202), ('victreebel', 204), ('drowzee', 205), ('nidorina', 205), ('venonat', 227), ('vileplume', 229), ('omastar', 247), ('diglett', 251), ('poliwrath', 253), ('kabutops', 262), ('nidorino', 272), ('seel', 302), ('jynx', 307), ('krabby', 318), ('kangaskhan', 337), ('scyther', 345), ('fearow', 393), ('pidgeot', 446), ('pikachu', 516), ('dodrio', 551), ('machoke', 564), ('ninetales', 568), ('dragonair', 593), ('metapod', 596), ('weezing', 604), ('magikarp', 670), ('dewgong', 692), ('dugtrio', 721), ('charmander', 738), ('electabuzz', 755), ('marowak', 930), ('oddish', 1035), ('electrode', 1073), ('magnetron', 1090), ('wigglytuff', 1120), ('tentacruel', 1153), ('rhydon', 1183), ('rapidash', 1210), ('raticate', 1233), ('cloyster', 1344), ('kadabra', 1360), ('bulbasaur', 1368), ('tauros', 1404), ('squirtle', 1490), ('arcanine', 1750), ('persian', 1757), ('exeggutor', 1786), ('kakuna', 1807), ('slowbro', 1824), ('primeape', 1912), ('sandshrew', 2025), ('seadra', 2297), ('haunter', 2419), ('graveler', 2470), ('pidgeotto', 3290), ('weepinbell', 3468), ('starmie', 3555), ('clefairy', 3565), ('gloom', 3603), ('seaking', 3842), ('poliwhirl', 3897), ('golduck', 3950), ('ekans', 4147), ('kingler', 4638), ('parasect', 7209), ('nidoran', 7887), ('gyarados', 7938), ('venemoth', 8325), ('caterpie', 9854), ('golbat', 10143), ('hypno', 10505), ('vaporeon', 11740), ('spearow', 12337), ('weedle', 27367), ('rattata', 39637), ('pidgey', 52114)]\n"
     ]
    }
   ],
   "source": [
    "#sorted by least to most appearances\n",
    "pokeAppearancesSorted = sorted(pokeAppearances.items(), key=lambda x: x[1])\n",
    "print(pokeAppearancesSorted)"
   ]
  },
  {
   "cell_type": "code",
   "execution_count": null,
   "metadata": {
    "collapsed": true
   },
   "outputs": [],
   "source": []
  }
 ],
 "metadata": {
  "kernelspec": {
   "display_name": "Python 3",
   "language": "python",
   "name": "python3"
  },
  "language_info": {
   "codemirror_mode": {
    "name": "ipython",
    "version": 3
   },
   "file_extension": ".py",
   "mimetype": "text/x-python",
   "name": "python",
   "nbconvert_exporter": "python",
   "pygments_lexer": "ipython3",
   "version": "3.6.3"
  }
 },
 "nbformat": 4,
 "nbformat_minor": 2
}
